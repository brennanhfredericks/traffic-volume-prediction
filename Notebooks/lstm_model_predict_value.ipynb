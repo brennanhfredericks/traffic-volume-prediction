{
 "cells": [
  {
   "cell_type": "code",
   "execution_count": 1,
   "metadata": {},
   "outputs": [],
   "source": [
    "import sys\n",
    "sys.path.append(\"../\")\n",
    "from build_model import lstm_model,train\n",
    "from data_loader import train_dev_test"
   ]
  },
  {
   "cell_type": "code",
   "execution_count": 2,
   "metadata": {},
   "outputs": [],
   "source": [
    "#prepare raw data\n",
    "tdt = train_dev_test(\"../Data/single_vds.hdf5\")\n",
    "tdt.init(load_params=True)"
   ]
  },
  {
   "cell_type": "code",
   "execution_count": 3,
   "metadata": {},
   "outputs": [],
   "source": [
    "#model save and run variables\n",
    "_name = \"lstm_model\"\n",
    "_dir_name = f\"history_{tdt.history_size}_future_{tdt.future_size}\"\n",
    "batch_size = 128\n",
    "epochs = 500"
   ]
  },
  {
   "cell_type": "code",
   "execution_count": 4,
   "metadata": {},
   "outputs": [
    {
     "name": "stdout",
     "output_type": "stream",
     "text": [
      "Epoch 1/500\n",
      "    418/Unknown - 30s 71ms/step - loss: 107.5426 - mean_absolute_error: 0.7956 - mean_squared_error: 1.0341 - mean_squared_logarithmic_error: 0.2047WARNING:tensorflow:From /usr/local/lib/python3.8/dist-packages/tensorflow/python/ops/resource_variable_ops.py:1813: calling BaseResourceVariable.__init__ (from tensorflow.python.ops.resource_variable_ops) with constraint is deprecated and will be removed in a future version.\n",
      "Instructions for updating:\n",
      "If using Keras pass *_constraint arguments to layers.\n",
      "INFO:tensorflow:Assets written to: ../Models/history_36_future_18//lstm_model_1593368319/model_1_101.8685,/assets\n",
      "420/420 [==============================] - 42s 99ms/step - loss: 107.5269 - mean_absolute_error: 0.7953 - mean_squared_error: 1.0335 - mean_squared_logarithmic_error: 0.2046 - val_loss: 101.8685 - val_mean_absolute_error: 0.7879 - val_mean_squared_error: 0.9878 - val_mean_squared_logarithmic_error: 0.2028\n",
      "Epoch 2/500\n",
      "419/420 [============================>.] - ETA: 0s - loss: 101.3939 - mean_absolute_error: 0.7889 - mean_squared_error: 1.0060 - mean_squared_logarithmic_error: 0.2049INFO:tensorflow:Assets written to: ../Models/history_36_future_18//lstm_model_1593368319/model_2_100.8832,/assets\n",
      "420/420 [==============================] - 15s 36ms/step - loss: 101.3938 - mean_absolute_error: 0.7888 - mean_squared_error: 1.0060 - mean_squared_logarithmic_error: 0.2049 - val_loss: 100.8832 - val_mean_absolute_error: 0.7880 - val_mean_squared_error: 0.9875 - val_mean_squared_logarithmic_error: 0.2035\n",
      "Epoch 3/500\n",
      "417/420 [============================>.] - ETA: 0s - loss: 101.0138 - mean_absolute_error: 0.7891 - mean_squared_error: 1.0068 - mean_squared_logarithmic_error: 0.2055INFO:tensorflow:Assets written to: ../Models/history_36_future_18//lstm_model_1593368319/model_3_100.6124,/assets\n",
      "420/420 [==============================] - 15s 36ms/step - loss: 101.0106 - mean_absolute_error: 0.7888 - mean_squared_error: 1.0059 - mean_squared_logarithmic_error: 0.2055 - val_loss: 100.6124 - val_mean_absolute_error: 0.7880 - val_mean_squared_error: 0.9874 - val_mean_squared_logarithmic_error: 0.2036\n",
      "Epoch 4/500\n",
      "420/420 [==============================] - 7s 17ms/step - loss: 100.8620 - mean_absolute_error: 0.7888 - mean_squared_error: 1.0059 - mean_squared_logarithmic_error: 0.2056 - val_loss: 100.6895 - val_mean_absolute_error: 0.7881 - val_mean_squared_error: 0.9874 - val_mean_squared_logarithmic_error: 0.2034\n",
      "Epoch 5/500\n",
      "420/420 [==============================] - 7s 17ms/step - loss: 100.8346 - mean_absolute_error: 0.7887 - mean_squared_error: 1.0059 - mean_squared_logarithmic_error: 0.2057 - val_loss: 100.7201 - val_mean_absolute_error: 0.7880 - val_mean_squared_error: 0.9874 - val_mean_squared_logarithmic_error: 0.2035\n",
      "Epoch 6/500\n",
      "420/420 [==============================] - 7s 17ms/step - loss: 100.8030 - mean_absolute_error: 0.7888 - mean_squared_error: 1.0059 - mean_squared_logarithmic_error: 0.2057 - val_loss: 100.7002 - val_mean_absolute_error: 0.7880 - val_mean_squared_error: 0.9874 - val_mean_squared_logarithmic_error: 0.2036\n",
      "Epoch 7/500\n",
      "419/420 [============================>.] - ETA: 0s - loss: 100.6868 - mean_absolute_error: 0.7888 - mean_squared_error: 1.0059 - mean_squared_logarithmic_error: 0.2059INFO:tensorflow:Assets written to: ../Models/history_36_future_18//lstm_model_1593368319/model_7_100.5476,/assets\n",
      "420/420 [==============================] - 15s 35ms/step - loss: 100.6867 - mean_absolute_error: 0.7887 - mean_squared_error: 1.0059 - mean_squared_logarithmic_error: 0.2059 - val_loss: 100.5476 - val_mean_absolute_error: 0.7879 - val_mean_squared_error: 0.9876 - val_mean_squared_logarithmic_error: 0.2044\n",
      "Epoch 8/500\n",
      "420/420 [==============================] - 7s 17ms/step - loss: 100.7615 - mean_absolute_error: 0.7887 - mean_squared_error: 1.0059 - mean_squared_logarithmic_error: 0.2058 - val_loss: 100.7764 - val_mean_absolute_error: 0.7880 - val_mean_squared_error: 0.9875 - val_mean_squared_logarithmic_error: 0.2037\n",
      "53/53 [==============================] - 4s 71ms/step - loss: 100.7837 - mean_absolute_error: 0.7799 - mean_squared_error: 0.9731 - mean_squared_logarithmic_error: 0.1942\n"
     ]
    }
   ],
   "source": [
    "#train model\n",
    "model,loss_compare = train(tdt,lstm_model,_name,_dir_name,BATCH_SIZE=batch_size,EPOCHS=epochs)"
   ]
  },
  {
   "cell_type": "code",
   "execution_count": 5,
   "metadata": {},
   "outputs": [
    {
     "name": "stdout",
     "output_type": "stream",
     "text": [
      "Model: \"lstm_model_1593368319\"\n",
      "_________________________________________________________________\n",
      "Layer (type)                 Output Shape              Param #   \n",
      "=================================================================\n",
      "input_1 (InputLayer)         [(None, 36, 42)]          0         \n",
      "_________________________________________________________________\n",
      "lstm (LSTM)                  (None, 36, 256)           306176    \n",
      "_________________________________________________________________\n",
      "lstm_1 (LSTM)                (None, 36, 128)           197120    \n",
      "_________________________________________________________________\n",
      "lstm_2 (LSTM)                (None, 36, 64)            49408     \n",
      "_________________________________________________________________\n",
      "time_distributed (TimeDistri (None, 36, 64)            4160      \n",
      "_________________________________________________________________\n",
      "flatten (Flatten)            (None, 2304)              0         \n",
      "_________________________________________________________________\n",
      "dense_1 (Dense)              (None, 64)                147520    \n",
      "_________________________________________________________________\n",
      "dense_2 (Dense)              (None, 32)                2080      \n",
      "_________________________________________________________________\n",
      "dense_3 (Dense)              (None, 18)                594       \n",
      "=================================================================\n",
      "Total params: 707,058\n",
      "Trainable params: 707,058\n",
      "Non-trainable params: 0\n",
      "_________________________________________________________________\n"
     ]
    }
   ],
   "source": [
    "model.summary()"
   ]
  },
  {
   "cell_type": "code",
   "execution_count": 6,
   "metadata": {},
   "outputs": [
    {
     "data": {
      "text/plain": [
       "{'train loss': 100.76145935058594,\n",
       " 'dev loss': 100.7763900756836,\n",
       " 'test loss': 100.78368377685547}"
      ]
     },
     "execution_count": 6,
     "metadata": {},
     "output_type": "execute_result"
    }
   ],
   "source": [
    "loss_compare"
   ]
  },
  {
   "cell_type": "code",
   "execution_count": null,
   "metadata": {},
   "outputs": [],
   "source": []
  },
  {
   "cell_type": "code",
   "execution_count": null,
   "metadata": {},
   "outputs": [],
   "source": []
  },
  {
   "cell_type": "code",
   "execution_count": null,
   "metadata": {},
   "outputs": [],
   "source": []
  },
  {
   "cell_type": "code",
   "execution_count": null,
   "metadata": {},
   "outputs": [],
   "source": []
  },
  {
   "cell_type": "code",
   "execution_count": null,
   "metadata": {},
   "outputs": [],
   "source": []
  }
 ],
 "metadata": {
  "kernelspec": {
   "display_name": "Python 3",
   "language": "python",
   "name": "python3"
  },
  "language_info": {
   "codemirror_mode": {
    "name": "ipython",
    "version": 3
   },
   "file_extension": ".py",
   "mimetype": "text/x-python",
   "name": "python",
   "nbconvert_exporter": "python",
   "pygments_lexer": "ipython3",
   "version": "3.8.2"
  }
 },
 "nbformat": 4,
 "nbformat_minor": 4
}
