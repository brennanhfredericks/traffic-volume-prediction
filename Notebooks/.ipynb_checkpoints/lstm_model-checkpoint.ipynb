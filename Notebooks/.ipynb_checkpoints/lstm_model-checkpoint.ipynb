{
 "cells": [
  {
   "cell_type": "code",
   "execution_count": 1,
   "metadata": {},
   "outputs": [],
   "source": [
    "import sys\n",
    "sys.path.append(\"../\")\n",
    "from build_model import lstm_model,train\n",
    "from data_loader import train_dev_test"
   ]
  },
  {
   "cell_type": "code",
   "execution_count": 2,
   "metadata": {},
   "outputs": [],
   "source": [
    "#prepare raw data\n",
    "tdt = train_dev_test(\"../Data/single_vds.hdf5\")\n",
    "tdt.init(load_params=True)"
   ]
  },
  {
   "cell_type": "code",
   "execution_count": 3,
   "metadata": {},
   "outputs": [],
   "source": [
    "#model save and run variables\n",
    "_name = \"lstm_model\"\n",
    "_dir_name = f\"history_{tdt.history_size}_future_{tdt.future_size}\"\n",
    "batch_size = 128\n",
    "epochs = 2"
   ]
  },
  {
   "cell_type": "code",
   "execution_count": 4,
   "metadata": {},
   "outputs": [
    {
     "name": "stdout",
     "output_type": "stream",
     "text": [
      "Epoch 1/2\n",
      "    419/Unknown - 31s 74ms/step - loss: 84.9764 - mean_absolute_percentage_error: 84.9764 - mean_squared_error: 0.7922 - mean_squared_logarithmic_error: 0.1983WARNING:tensorflow:From /usr/local/lib/python3.8/dist-packages/tensorflow/python/ops/resource_variable_ops.py:1813: calling BaseResourceVariable.__init__ (from tensorflow.python.ops.resource_variable_ops) with constraint is deprecated and will be removed in a future version.\n",
      "Instructions for updating:\n",
      "If using Keras pass *_constraint arguments to layers.\n",
      "INFO:tensorflow:Assets written to: ../Models/model_setup//setup_test_model_1593346731/model_1_79.9801,/assets\n",
      "420/420 [==============================] - 44s 105ms/step - loss: 84.9744 - mean_absolute_percentage_error: 84.9744 - mean_squared_error: 0.7922 - mean_squared_logarithmic_error: 0.1983 - val_loss: 79.9801 - val_mean_absolute_percentage_error: 79.9801 - val_mean_squared_error: 0.6678 - val_mean_squared_logarithmic_error: 0.1871\n",
      "Epoch 2/2\n",
      "420/420 [==============================] - ETA: 0s - loss: 76.0225 - mean_absolute_percentage_error: 76.0225 - mean_squared_error: 0.6768 - mean_squared_logarithmic_error: 0.1853INFO:tensorflow:Assets written to: ../Models/model_setup//setup_test_model_1593346731/model_2_74.8281,/assets\n",
      "420/420 [==============================] - 16s 37ms/step - loss: 76.0225 - mean_absolute_percentage_error: 76.0225 - mean_squared_error: 0.6768 - mean_squared_logarithmic_error: 0.1853 - val_loss: 74.8281 - val_mean_absolute_percentage_error: 74.8281 - val_mean_squared_error: 0.5599 - val_mean_squared_logarithmic_error: 0.1439\n",
      "53/53 [==============================] - 4s 77ms/step - loss: 76.6932 - mean_absolute_percentage_error: 76.6932 - mean_squared_error: 0.5448 - mean_squared_logarithmic_error: 0.1373\n"
     ]
    }
   ],
   "source": [
    "#train model\n",
    "model,loss_compare = train(tdt,lstm_model,_name,_dir_name,BATCH_SIZE=batch_size,EPOCHS=epochs)"
   ]
  },
  {
   "cell_type": "code",
   "execution_count": null,
   "metadata": {},
   "outputs": [],
   "source": []
  },
  {
   "cell_type": "code",
   "execution_count": null,
   "metadata": {},
   "outputs": [],
   "source": []
  },
  {
   "cell_type": "code",
   "execution_count": null,
   "metadata": {},
   "outputs": [],
   "source": []
  },
  {
   "cell_type": "code",
   "execution_count": null,
   "metadata": {},
   "outputs": [],
   "source": []
  },
  {
   "cell_type": "code",
   "execution_count": null,
   "metadata": {},
   "outputs": [],
   "source": []
  },
  {
   "cell_type": "code",
   "execution_count": null,
   "metadata": {},
   "outputs": [],
   "source": []
  },
  {
   "cell_type": "code",
   "execution_count": null,
   "metadata": {},
   "outputs": [],
   "source": []
  }
 ],
 "metadata": {
  "kernelspec": {
   "display_name": "Python 3",
   "language": "python",
   "name": "python3"
  },
  "language_info": {
   "codemirror_mode": {
    "name": "ipython",
    "version": 3
   },
   "file_extension": ".py",
   "mimetype": "text/x-python",
   "name": "python",
   "nbconvert_exporter": "python",
   "pygments_lexer": "ipython3",
   "version": "3.8.2"
  }
 },
 "nbformat": 4,
 "nbformat_minor": 4
}
